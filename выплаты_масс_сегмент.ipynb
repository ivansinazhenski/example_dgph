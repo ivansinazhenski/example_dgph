{
 "cells": [
  {
   "cell_type": "code",
   "execution_count": 1,
   "metadata": {},
   "outputs": [],
   "source": [
    "import pandas as pd\n",
    "import numpy as np\n",
    "from os import listdir\n"
   ]
  },
  {
   "cell_type": "markdown",
   "metadata": {},
   "source": [
    "# Сведение файлов"
   ]
  },
  {
   "cell_type": "code",
   "execution_count": null,
   "metadata": {},
   "outputs": [],
   "source": [
    "%%time\n",
    "p = '/Users/ivansinazhenski/Documents/ WORK/ГПХ_B2C_Воронков_11_2020/Исходники/исходники_для_чтения'\n",
    "files = []\n",
    "\n",
    "for f in listdir(p):\n",
    "    print(f)\n",
    "    df = pd.read_excel(p+'/'+f)\n",
    "    df.loc[:,'mon'] = f.split('_')[0]\n",
    "    files.append(df)"
   ]
  },
  {
   "cell_type": "code",
   "execution_count": null,
   "metadata": {},
   "outputs": [],
   "source": [
    "payments = pd.concat(files)"
   ]
  },
  {
   "cell_type": "code",
   "execution_count": null,
   "metadata": {},
   "outputs": [],
   "source": [
    "%%time\n",
    "\n",
    "payments.to_excel('/Users/ivansinazhenski/Documents/ WORK/ГПХ_B2C_Воронков_11_2020/Исходники/р12_все_выплаты.xlsx', index=False)"
   ]
  },
  {
   "cell_type": "markdown",
   "metadata": {},
   "source": [
    "# Чтение файлов"
   ]
  },
  {
   "cell_type": "code",
   "execution_count": 2,
   "metadata": {},
   "outputs": [
    {
     "name": "stdout",
     "output_type": "stream",
     "text": [
      "CPU times: user 28 s, sys: 347 ms, total: 28.4 s\n",
      "Wall time: 29.8 s\n"
     ]
    }
   ],
   "source": [
    "%%time\n",
    "\n",
    "payments = pd.read_excel('/Users/ivansinazhenski/Documents/ WORK/ГПХ_B2C_Воронков_11_2020/Исходники/р12_все_выплаты.xlsx')"
   ]
  },
  {
   "cell_type": "code",
   "execution_count": 3,
   "metadata": {},
   "outputs": [
    {
     "name": "stdout",
     "output_type": "stream",
     "text": [
      "CPU times: user 70.7 ms, sys: 20.7 ms, total: 91.4 ms\n",
      "Wall time: 154 ms\n"
     ]
    }
   ],
   "source": [
    "%%time\n",
    "\n",
    "mrf_cods = pd.read_excel('/Users/ivansinazhenski/Documents/ WORK/ГПХ_B2C_Воронков_11_2020/Исходники/код_филиал.xlsx')"
   ]
  },
  {
   "cell_type": "markdown",
   "metadata": {},
   "source": [
    "# Подготовка исходного файла к созданию сводной"
   ]
  },
  {
   "cell_type": "code",
   "execution_count": 4,
   "metadata": {},
   "outputs": [],
   "source": [
    "# берем только Массовый сегмент\n",
    "\n",
    "mass_seg = payments[(payments['Подразделение'].str.contains('Массовый сегмент'))|(payments['Подразделение'].str.contains('массовым сегмент'))].copy()"
   ]
  },
  {
   "cell_type": "code",
   "execution_count": 5,
   "metadata": {},
   "outputs": [],
   "source": [
    "# выделяем код филиала\n",
    "\n",
    "mass_seg = mass_seg.merge(mass_seg['Подразделение'].str.split('.', expand=True)[0].to_frame().rename(columns={0:'code_mrf'}),\n",
    "              how='inner', left_index=True, right_index=True)"
   ]
  },
  {
   "cell_type": "code",
   "execution_count": 6,
   "metadata": {},
   "outputs": [],
   "source": [
    "mrf_cods['КОД_Ф'] = mrf_cods['КОД_Ф'].astype(str)"
   ]
  },
  {
   "cell_type": "code",
   "execution_count": 7,
   "metadata": {},
   "outputs": [],
   "source": [
    "mrf_cods['КОД_Ф'] = '0'+ mrf_cods['КОД_Ф']"
   ]
  },
  {
   "cell_type": "code",
   "execution_count": 8,
   "metadata": {
    "scrolled": true
   },
   "outputs": [],
   "source": [
    "#сводим код и название мрф и рф\n",
    "\n",
    "merged = mass_seg.merge(mrf_cods, how='left', left_on='code_mrf', right_on='КОД_Ф')"
   ]
  },
  {
   "cell_type": "code",
   "execution_count": 9,
   "metadata": {},
   "outputs": [
    {
     "data": {
      "text/plain": [
       "01102    1747\n",
       "Name: code_mrf, dtype: int64"
      ]
     },
     "execution_count": 9,
     "metadata": {},
     "output_type": "execute_result"
    }
   ],
   "source": [
    "merged[merged['ФИЛИАЛ_И'].isnull()]['code_mrf'].value_counts()"
   ]
  },
  {
   "cell_type": "code",
   "execution_count": 10,
   "metadata": {},
   "outputs": [],
   "source": [
    "#дозаполняем несведенные\n",
    "\n",
    "merged['ФИЛИАЛ_И'].fillna('Филиал в Брянской и Орловской областях', inplace=True)\n",
    "merged['УЗЕЛ_И'].fillna('Центр', inplace=True)"
   ]
  },
  {
   "cell_type": "markdown",
   "metadata": {},
   "source": [
    "## Выделение подразделений для группировки"
   ]
  },
  {
   "cell_type": "code",
   "execution_count": 11,
   "metadata": {
    "scrolled": true
   },
   "outputs": [],
   "source": [
    "# делим на части общий путь\n",
    "\n",
    "podrazdel = merged['Подразделение'].str.split(' / ', expand=True)"
   ]
  },
  {
   "cell_type": "code",
   "execution_count": 12,
   "metadata": {},
   "outputs": [],
   "source": [
    "# Заполняем последними значениями\n",
    "\n",
    "\n",
    "podrazdel.loc[podrazdel[podrazdel[4].isnull()].index, 4] = podrazdel[3]\n",
    "podrazdel.loc[podrazdel[podrazdel[4].isnull()].index, 4] = podrazdel[2]\n",
    "podrazdel.loc[podrazdel[podrazdel[4].isnull()].index, 4] = podrazdel[1]\n",
    "podrazdel.loc[podrazdel[podrazdel[4].isnull()].index, 4] = podrazdel[0]"
   ]
  },
  {
   "cell_type": "code",
   "execution_count": 13,
   "metadata": {},
   "outputs": [],
   "source": [
    "# выкидываем не нужные столбцы\n",
    "\n",
    "podrazdel = podrazdel.loc[:,[0,4]]"
   ]
  },
  {
   "cell_type": "code",
   "execution_count": 14,
   "metadata": {},
   "outputs": [],
   "source": [
    "# выделяем лист значений который надо отбросить\n",
    "\n",
    "s = '.'\n",
    "to_replace = (podrazdel[0].str.split('.', expand=True)[0]+s+podrazdel[0].str.split('.', expand=True)[1]+s).drop_duplicates().to_list()\n",
    "to_replace += (podrazdel[0].str.split('.', expand=True)[0]+s+'0353'+s).drop_duplicates().to_list()"
   ]
  },
  {
   "cell_type": "code",
   "execution_count": 15,
   "metadata": {},
   "outputs": [
    {
     "name": "stdout",
     "output_type": "stream",
     "text": [
      "CPU times: user 25.5 s, sys: 210 ms, total: 25.7 s\n",
      "Wall time: 27.5 s\n"
     ]
    }
   ],
   "source": [
    "%%time\n",
    "# убираем числовые значения\n",
    "\n",
    "for tr in to_replace:\n",
    "    podrazdel[4] = podrazdel[4].str.replace(tr, '')"
   ]
  },
  {
   "cell_type": "code",
   "execution_count": null,
   "metadata": {},
   "outputs": [],
   "source": [
    "%%time \n",
    "# доубираем числа в начале и в конце\n",
    "\n",
    "s = '.'\n",
    "for i in podrazdel.index:\n",
    "    print(i)\n",
    "    split_4 = podrazdel.loc[i, 4].split('.')\n",
    "    try:\n",
    "        int(split_4[0])\n",
    "        split_4 = split_4[2:]\n",
    "        podrazdel.loc[i, 4] = s.join(split_4)\n",
    "    except:\n",
    "        pass"
   ]
  },
  {
   "cell_type": "code",
   "execution_count": 20,
   "metadata": {},
   "outputs": [],
   "source": [
    "b = podrazdel[4].copy()"
   ]
  },
  {
   "cell_type": "code",
   "execution_count": null,
   "metadata": {},
   "outputs": [],
   "source": [
    "podrazdel[4].value_counts().to_excel('a.xlsx')"
   ]
  },
  {
   "cell_type": "code",
   "execution_count": 17,
   "metadata": {},
   "outputs": [],
   "source": [
    "podrazdel_v2 = pd.read_excel('a.xlsx')"
   ]
  },
  {
   "cell_type": "code",
   "execution_count": 22,
   "metadata": {},
   "outputs": [],
   "source": [
    "mass_seg_to_work = merged.merge(podrazdel, how='inner', left_index=True, right_index=True)"
   ]
  },
  {
   "cell_type": "code",
   "execution_count": 23,
   "metadata": {},
   "outputs": [],
   "source": [
    "mass_seg_to_work = mass_seg_to_work.merge(podrazdel_v2, how= 'inner', left_on=4, right_on=4)\n"
   ]
  },
  {
   "cell_type": "code",
   "execution_count": 24,
   "metadata": {},
   "outputs": [],
   "source": [
    "\n",
    "mass_seg_to_work.rename(columns={'low':'направление_B2C',\n",
    "                         'hight': 'Направление B2C верх'}, inplace=True)"
   ]
  },
  {
   "cell_type": "code",
   "execution_count": null,
   "metadata": {},
   "outputs": [],
   "source": [
    "# готовимся ко сведению с основным df\n",
    "\n",
    "podrazdel = podrazdel.loc[:, [4, 'Направление B2C верх']]\n",
    "podrazdel.rename(columns={4:'направление_B2C'}, inplace=True)"
   ]
  },
  {
   "cell_type": "code",
   "execution_count": null,
   "metadata": {},
   "outputs": [],
   "source": [
    "# сводим с основным df\n",
    "\n",
    "mass_seg_to_work = merged.merge(podrazdel, how='inner', left_index=True, right_index=True)"
   ]
  },
  {
   "cell_type": "code",
   "execution_count": null,
   "metadata": {},
   "outputs": [],
   "source": [
    "mass_seg_to_work[mass_seg_to_work['Номер назначения'] == '351884']"
   ]
  },
  {
   "cell_type": "markdown",
   "metadata": {},
   "source": [
    "# Создание общей сводной таблицы (с мрф)"
   ]
  },
  {
   "cell_type": "code",
   "execution_count": 25,
   "metadata": {},
   "outputs": [],
   "source": [
    "# готовим столбец для агрегирования\n",
    "\n",
    "mass_seg_to_work['all_pivot'] = mass_seg_to_work['УЗЕЛ_И']+'|'+mass_seg_to_work['ФИЛИАЛ_И']+'|'+mass_seg_to_work['Направление B2C верх']+'|'+mass_seg_to_work['направление_B2C']+'|'+mass_seg_to_work['Номер назначения']\n"
   ]
  },
  {
   "cell_type": "code",
   "execution_count": 26,
   "metadata": {},
   "outputs": [],
   "source": [
    "mass_seg_to_work = mass_seg_to_work[(mass_seg_to_work['mon'] != 9) & (mass_seg_to_work['mon'] != 8)].copy()"
   ]
  },
  {
   "cell_type": "code",
   "execution_count": 27,
   "metadata": {},
   "outputs": [
    {
     "data": {
      "text/plain": [
       "7    17306\n",
       "4    16645\n",
       "5    15916\n",
       "3    15835\n",
       "1    15692\n",
       "6    15451\n",
       "2    14822\n",
       "Name: mon, dtype: int64"
      ]
     },
     "execution_count": 27,
     "metadata": {},
     "output_type": "execute_result"
    }
   ],
   "source": [
    "mass_seg_to_work.mon.value_counts()"
   ]
  },
  {
   "cell_type": "code",
   "execution_count": 28,
   "metadata": {},
   "outputs": [],
   "source": [
    "# делаем сводную\n",
    "\n",
    "summary = pd.pivot_table(mass_seg_to_work, columns=['mon'], index=['all_pivot'], values='Сумма, руб.коп.', aggfunc='sum')"
   ]
  },
  {
   "cell_type": "code",
   "execution_count": 30,
   "metadata": {},
   "outputs": [],
   "source": [
    "# summary['Направление B2C'] = summary['Направление B2C'].replace('Управление по работе с массовым сегментом_101', 'Управление по работе с массовым сегментом')\n",
    "# summary['Направление B2C'] = summary['Направление B2C'].replace('Управление по работе с массовым сегментом_116', 'Управление по работе с массовым сегментом')\n",
    "# # summary['Направление B2C'] = summary['Направление B2C'].replace('Коммерческий блок_104', 'Коммерческий блок')\n",
    "# summary['Направление B2C'] = summary['Направление B2C'].replace('Подразделения по работе с массовым сегментом.1', 'Подразделения по работе с массовым сегментом')"
   ]
  },
  {
   "cell_type": "code",
   "execution_count": 31,
   "metadata": {},
   "outputs": [],
   "source": [
    "# заполняем нули\n",
    "\n",
    "summary.fillna(0, inplace=True)"
   ]
  },
  {
   "cell_type": "code",
   "execution_count": 32,
   "metadata": {},
   "outputs": [],
   "source": [
    "# выделяем столбец для разбиения\n",
    "\n",
    "summary.reset_index(inplace=True)"
   ]
  },
  {
   "cell_type": "code",
   "execution_count": 33,
   "metadata": {},
   "outputs": [],
   "source": [
    "# разбиваем столбец на элемент\n",
    "\n",
    "all_pivot_to_join = summary['all_pivot'].str.split('|', expand=True).rename(columns={0:'МРФ', 1:'Филиала', 2:'Направление B2C_верх', 3:'Направление B2C', 4:'Номер_назначения'})\n",
    "summary = summary.merge(all_pivot_to_join, how='inner', left_index=True, right_index=True)"
   ]
  },
  {
   "cell_type": "code",
   "execution_count": 34,
   "metadata": {},
   "outputs": [],
   "source": [
    "# добовляем итоги по строке, метку превышений 500к\n",
    "\n",
    "summary.loc[:,'Всего'] = summary.loc[:, [1,2,3,4,5,6,7]].sum(1)\n",
    "summary.loc[summary[summary['Всего'] >= 500000].index, 'Превышение >= 500к'] = 1"
   ]
  },
  {
   "cell_type": "code",
   "execution_count": 35,
   "metadata": {},
   "outputs": [],
   "source": [
    "for cl in [1,2,3,4,5,6,7,'Всего']:\n",
    "    summary[cl]/= 1000"
   ]
  },
  {
   "cell_type": "code",
   "execution_count": 40,
   "metadata": {
    "scrolled": true
   },
   "outputs": [],
   "source": [
    "summary = summary.loc[:, [               'МРФ',         'Направление B2C_верх', 'Направление B2C',  'Филиала', \n",
    "         'Номер_назначения',  'Всего',                  1,                    2,\n",
    "                          3,                    4,                    5,\n",
    "                          6,                    7,              \n",
    "       'Превышение >= 500к',   'Месяца_без_оплат',    'нет оплат 3 мес']]"
   ]
  },
  {
   "cell_type": "code",
   "execution_count": 41,
   "metadata": {},
   "outputs": [],
   "source": [
    "summary.loc[:,'кол_во'] = 1"
   ]
  },
  {
   "cell_type": "code",
   "execution_count": 42,
   "metadata": {},
   "outputs": [],
   "source": [
    "# считаем среднюю выплату\n",
    "\n",
    "summary.loc[:, 'мес_оплат']= summary['Месяца_без_оплат'].str.split(',', expand=True).isnull().sum(1)\n",
    "summary['Средняя_Выплата'] = summary['Всего']/summary['мес_оплат']"
   ]
  },
  {
   "cell_type": "code",
   "execution_count": null,
   "metadata": {},
   "outputs": [],
   "source": [
    "summary#.to_excel('f.xlsx')"
   ]
  },
  {
   "cell_type": "code",
   "execution_count": 43,
   "metadata": {},
   "outputs": [
    {
     "name": "stdout",
     "output_type": "stream",
     "text": [
      "CPU times: user 25.9 s, sys: 600 ms, total: 26.5 s\n",
      "Wall time: 30.3 s\n"
     ]
    }
   ],
   "source": [
    "%%time\n",
    "\n",
    "# общий итог\n",
    "summary_itog = summary.copy()\n",
    "summary_itog['МРФ'] = summary_itog['МРФ']+'_а1'\n",
    "summary_itog['Филиала'] = summary_itog['Филиала']+'_а1'\n",
    "summary_itog['Направление B2C_верх'] = summary_itog['Направление B2C_верх']+'_а1'\n",
    "summary_itog['Направление B2C'] = summary_itog['Направление B2C']+'_а1'\n",
    "summary_itog['level'] = 4\n",
    "\n",
    "summary_itog.loc['1111_Итог', 'МРФ'] = '1111_Итог'\n",
    "summary_itog.loc['1111_Итог', 'level'] = 0\n",
    "summary_itog.loc['1111_Итог', 'Номер_назначения'] = summary_itog['Номер_назначения'].count()\n",
    "summary_itog.loc['1111_Итог', 'мес_оплат'] = summary_itog['мес_оплат'].mean()\n",
    "\n",
    "for cl in [1,2,3,4,5,6,7,'Всего','Превышение >= 500к', 'нет оплат 3 мес', 'кол_во']:\n",
    "    summary_itog.loc['1111_Итог', cl] = summary_itog[cl].sum()\n",
    "summary_itog.loc['1111_Итог', 'Средняя_Выплата'] =  summary_itog.loc['1111_Итог', 'Всего']/summary_itog.loc['1111_Итог', 'мес_оплат']\n",
    "\n",
    "for mrf in summary_itog.МРФ.value_counts().index:\n",
    "    if mrf.find('1111_Итог') == 0:\n",
    "        continue\n",
    "    mrf_all = summary_itog[summary_itog['МРФ'] == mrf].copy()\n",
    "    \n",
    "    summary_itog.loc['1111_'+mrf, 'level'] = 0\n",
    "    summary_itog.loc['1111_'+mrf, 'МРФ'] = mrf.split('_')[0]\n",
    "    summary_itog.loc['1111_'+mrf,'Номер_назначения'] = mrf_all['Номер_назначения'].count()\n",
    "    summary_itog.loc['1111_'+mrf, 'мес_оплат'] = mrf_all['мес_оплат'].mean()\n",
    "    \n",
    "    for cl in [1,2,3,4,5,6,7,'Всего','Превышение >= 500к', 'нет оплат 3 мес', 'кол_во']:\n",
    "        summary_itog.loc['1111_'+mrf, cl] = mrf_all[cl].sum()\n",
    "    summary_itog.loc['1111_'+mrf, 'Средняя_Выплата'] =  summary_itog.loc['1111_'+mrf, 'Всего']/summary_itog.loc['1111_'+mrf, 'мес_оплат']\n",
    "                     \n",
    "        \n",
    "    for b2c in mrf_all['Направление B2C_верх'].value_counts().index:\n",
    "        b2c_up = mrf_all[mrf_all['Направление B2C_верх'] == b2c].copy()\n",
    "\n",
    "        summary_itog.loc['1111_'+mrf+b2c, 'МРФ'] = mrf\n",
    "        summary_itog.loc['1111_'+mrf+b2c, 'Направление B2C_верх'] = b2c.split('_')[0]+'_а'\n",
    "        summary_itog.loc['1111_'+mrf+b2c, 'level'] = 1\n",
    "        summary_itog.loc['1111_'+mrf+b2c,'Номер_назначения'] = b2c_up['Номер_назначения'].count()\n",
    "        summary_itog.loc['1111_'+mrf+b2c, 'мес_оплат'] = b2c_up['мес_оплат'].mean()\n",
    "        \n",
    "        for cl in [1,2,3,4,5,6,7,'Всего','Превышение >= 500к', 'нет оплат 3 мес', 'кол_во']:\n",
    "            summary_itog.loc['1111_'+mrf+b2c, cl] = b2c_up[cl].sum()\n",
    "        summary_itog.loc['1111_'+mrf+b2c, 'Средняя_Выплата'] =  summary_itog.loc['1111_'+mrf+b2c, 'Всего']/summary_itog.loc['1111_'+mrf+b2c, 'мес_оплат']\n",
    "        \n",
    "        \n",
    "        for b2cu in b2c_up['Направление B2C'].value_counts().index:\n",
    "            b2c_all = b2c_up[b2c_up['Направление B2C'] == b2cu].copy()\n",
    "\n",
    "            summary_itog.loc['1111_'+mrf+b2cu+b2c, 'МРФ'] = mrf\n",
    "            summary_itog.loc['1111_'+mrf+b2cu+b2c, 'Направление B2C_верх'] = b2c\n",
    "            summary_itog.loc['1111_'+mrf+b2cu+b2c, 'Направление B2C'] = b2cu.split('_')[0]+'_а'\n",
    "            summary_itog.loc['1111_'+mrf+b2cu+b2c, 'level'] = 2\n",
    "            summary_itog.loc['1111_'+mrf+b2cu+b2c,'Номер_назначения'] = b2c_all['Номер_назначения'].count()\n",
    "            summary_itog.loc['1111_'+mrf+b2cu+b2c, 'мес_оплат'] = b2c_all['мес_оплат'].mean()\n",
    "            \n",
    "            for cl in [1,2,3,4,5,6,7,'Всего','Превышение >= 500к', 'нет оплат 3 мес', 'кол_во']:\n",
    "                summary_itog.loc['1111_'+mrf+b2cu+b2c, cl] = b2c_all[cl].sum()\n",
    "            summary_itog.loc['1111_'+mrf+b2cu+b2c, 'Средняя_Выплата'] =  summary_itog.loc['1111_'+mrf+b2cu+b2c, 'Всего']/summary_itog.loc['1111_'+mrf+b2c, 'мес_оплат']\n",
    "            \n",
    "            \n",
    "            for fil in b2c_all['Филиала'].value_counts().index:\n",
    "                fil_all = b2c_all[b2c_all['Филиала'] == fil].copy()\n",
    "                summary_itog.loc['1111_'+mrf+fil+b2c+b2cu, 'МРФ'] = mrf\n",
    "                summary_itog.loc['1111_'+mrf+fil+b2c+b2cu, 'Направление B2C_верх'] = b2c\n",
    "                summary_itog.loc['1111_'+mrf+fil+b2c+b2cu, 'Направление B2C'] = b2cu\n",
    "                summary_itog.loc['1111_'+mrf+fil+b2c+b2cu, 'Филиала'] = fil.split('_')[0]\n",
    "                summary_itog.loc['1111_'+mrf+fil+b2c+b2cu, 'level'] = 3\n",
    "                summary_itog.loc['1111_'+mrf+fil+b2c+b2cu,'Номер_назначения'] = fil_all['Номер_назначения'].count()\n",
    "                summary_itog.loc['1111_'+mrf+fil+b2c+b2cu, 'мес_оплат'] = fil_all['мес_оплат'].mean()\n",
    "                for cl in [1,2,3,4,5,6,7,'Всего','Превышение >= 500к', 'нет оплат 3 мес', 'кол_во']:\n",
    "                    summary_itog.loc['1111_'+mrf+fil+b2c+b2cu, cl] = fil_all[cl].sum()\n",
    "                summary_itog.loc['1111_'+mrf+fil+b2c+b2cu, 'Средняя_Выплата'] =  summary_itog.loc['1111_'+mrf+fil+b2c+b2cu, 'Всего']/summary_itog.loc['1111_'+mrf+fil+b2c+b2cu, 'мес_оплат']\n",
    "\n"
   ]
  },
  {
   "cell_type": "code",
   "execution_count": 44,
   "metadata": {
    "scrolled": true
   },
   "outputs": [],
   "source": [
    "# сортировка\n",
    "\n",
    "\n",
    "summary_itog.sort_values(['МРФ', 'Направление B2C_верх','Направление B2C','Филиала'],kind='mergesort', inplace= True)\n",
    "summary_itog['МРФ'] = summary_itog['МРФ'].str.replace('1111_', '')\n",
    "summary_itog['МРФ'] = summary_itog['МРФ'].str.replace('_а1', '')\n",
    "summary_itog['Филиала'] = summary_itog['Филиала'].str.replace('_а1', '')\n",
    "summary_itog['Направление B2C'] = summary_itog['Направление B2C'].str.replace('_а1', '')\n",
    "summary_itog['Направление B2C_верх'] = summary_itog['Направление B2C_верх'].str.replace('_а1', '')\n",
    "summary_itog['МРФ'] = summary_itog['МРФ'].str.replace('_а', '')\n",
    "summary_itog['Филиала'] = summary_itog['Филиала'].str.replace('_а', '')\n",
    "summary_itog['Направление B2C'] = summary_itog['Направление B2C'].str.replace('_а', '')\n",
    "summary_itog['Направление B2C_верх'] = summary_itog['Направление B2C_верх'].str.replace('_а', '')"
   ]
  },
  {
   "cell_type": "code",
   "execution_count": 45,
   "metadata": {},
   "outputs": [
    {
     "name": "stdout",
     "output_type": "stream",
     "text": [
      "CPU times: user 14.8 s, sys: 417 ms, total: 15.2 s\n",
      "Wall time: 16.5 s\n"
     ]
    }
   ],
   "source": [
    "%%time\n",
    "\n",
    "# выгрузка файла\n",
    "\n",
    "summary_itog.reset_index(inplace=True, drop=True)\n",
    "path = '/Users/ivansinazhenski/Documents/ WORK/ГПХ_B2C_Воронков_11_2020/масс_сектор_summary_v4.xlsx'\n",
    "with pd.ExcelWriter(path, engine='xlsxwriter') as w:\n",
    "    workbook = w.book\n",
    "    summary_itog.to_excel(w, sheet_name='выплаты_все', index=False)\n",
    "    out_sum_wsh = w.sheets['выплаты_все']\n",
    "    out_sum_wsh.outline_settings(True, False, False, False)\n",
    "    for i in summary_itog.index:\n",
    "        if summary_itog.loc[i, 'level'] == 1:\n",
    "            out_sum_wsh.set_row(i+1, None, None, {'level': 1})\n",
    "        elif summary_itog.loc[i, 'level'] == 2:\n",
    "            out_sum_wsh.set_row(i+1, None, None, {'level': 2})\n",
    "        elif summary_itog.loc[i, 'level'] == 3:\n",
    "            out_sum_wsh.set_row(i+1, None, None, {'level': 3})\n",
    "        elif summary_itog.loc[i, 'level'] == 4:\n",
    "            out_sum_wsh.set_row(i+1, None, None, {'level': 4})"
   ]
  },
  {
   "cell_type": "markdown",
   "metadata": {},
   "source": [
    "# Создание пивота только по направлениям B2C"
   ]
  },
  {
   "cell_type": "code",
   "execution_count": null,
   "metadata": {},
   "outputs": [],
   "source": [
    "summary_b2c = summary.drop(['МРФ', 'Филиала'], axis=1).sort_values(['Направление B2C'])"
   ]
  },
  {
   "cell_type": "code",
   "execution_count": null,
   "metadata": {},
   "outputs": [],
   "source": [
    "%%time\n",
    "\n",
    "# общий итог\n",
    "summary_itog = summary_b2c.copy()\n",
    "summary_itog['Направление B2C'] = summary_itog['Направление B2C']+'_а1'\n",
    "summary_itog['level'] = 2\n",
    "\n",
    "summary_itog.loc['1111_Итог', 'Направление B2C'] = '1111_Итог'\n",
    "summary_itog.loc['1111_Итог', 'level'] = '1'\n",
    "summary_itog.loc['1111_Итог', 'Номер_назначения'] = summary_itog['Номер_назначения'].count()\n",
    "for cl in [1,2,3,4,5,6,7,'Всего','Превышение >= 500к', 'нет оплат 3 мес']:\n",
    "    summary_itog.loc['1111_Итог', cl] = summary_itog[cl].sum()\n",
    "\n",
    "for mrf in summary_itog['Направление B2C'].value_counts().index:\n",
    "    if mrf.find('1111_Итог') == 0:\n",
    "        continue\n",
    "    mrf_all = summary_itog[summary_itog['Направление B2C'] == mrf].copy()\n",
    "    \n",
    "    summary_itog.loc['1111_'+mrf, 'level'] = 1\n",
    "    summary_itog.loc['1111_'+mrf, 'Направление B2C'] = mrf.split('_')[0]+'_а'\n",
    "    summary_itog.loc['1111_'+mrf,'Номер_назначения'] = mrf_all['Номер_назначения' ].count()\n",
    "    for cl in [1,2,3,4,5,6,7,'Всего','Превышение >= 500к','нет оплат 3 мес']:\n",
    "        summary_itog.loc['1111_'+mrf, cl] = mrf_all[cl].sum()"
   ]
  },
  {
   "cell_type": "code",
   "execution_count": null,
   "metadata": {},
   "outputs": [],
   "source": [
    "summary_itog.sort_values(['Направление B2C'], inplace= True)\n",
    "summary_itog['Направление B2C'] = summary_itog['Направление B2C'].str.replace('1111_', '')\n",
    "summary_itog['Направление B2C'] = summary_itog['Направление B2C'].str.replace('_а1', '')\n",
    "summary_itog['Направление B2C'] = summary_itog['Направление B2C'].str.replace('_а', '')"
   ]
  },
  {
   "cell_type": "code",
   "execution_count": null,
   "metadata": {},
   "outputs": [],
   "source": [
    "%%time\n",
    "\n",
    "# выгрузка файла\n",
    "\n",
    "summary_itog.reset_index(inplace=True, drop=True)\n",
    "path = '/Users/ivansinazhenski/Documents/ WORK/ГПХ_B2C_Воронков_11_2020/масс_сектор_summary_b2c_v2.xlsx'\n",
    "with pd.ExcelWriter(path, engine='xlsxwriter') as w:\n",
    "    workbook = w.book\n",
    "    summary_itog.to_excel(w, sheet_name='выплаты_b2c', index=False)\n",
    "    out_sum_wsh = w.sheets['выплаты_b2c']\n",
    "    out_sum_wsh.outline_settings(True, False, False, False)\n",
    "    for i in summary_itog.index:\n",
    "        if summary_itog.loc[i, 'level'] == 1:\n",
    "            out_sum_wsh.set_row(i+1, None, None, {'level': 1})\n",
    "        elif summary_itog.loc[i, 'level'] == 2:\n",
    "            out_sum_wsh.set_row(i+1, None, None, {'level': 2})"
   ]
  },
  {
   "cell_type": "markdown",
   "metadata": {},
   "source": [
    "# Превышение 500 "
   ]
  },
  {
   "cell_type": "code",
   "execution_count": null,
   "metadata": {},
   "outputs": [],
   "source": [
    "summary_500 = summary[summary['Превышение >= 500к'] == 1].copy()"
   ]
  },
  {
   "cell_type": "code",
   "execution_count": null,
   "metadata": {},
   "outputs": [],
   "source": [
    "%%time\n",
    "\n",
    "# общий итог\n",
    "summary_itog = summary_500.copy()\n",
    "summary_itog['МРФ'] = summary_itog['МРФ']+'_а1'\n",
    "summary_itog['Филиала'] = summary_itog['Филиала']+'_а1'\n",
    "summary_itog['Направление B2C'] = summary_itog['Направление B2C']+'_а1'\n",
    "summary_itog['level'] = 4\n",
    "\n",
    "summary_itog.loc['1111_Итог', 'МРФ'] = '1111_Итог'\n",
    "summary_itog.loc['1111_Итог', 'level'] = '1'\n",
    "summary_itog.loc['1111_Итог', 'Номер_назначения'] = summary_itog['Номер_назначения'].count()\n",
    "for cl in [1,2,3,4,5,6,7,'Всего','Превышение >= 500к', 'нет оплат 3 мес']:\n",
    "    summary_itog.loc['1111_Итог', cl] = summary_itog[cl].sum()\n",
    "\n",
    "for mrf in summary_itog.МРФ.value_counts().index:\n",
    "    if mrf.find('1111_Итог') == 0:\n",
    "        continue\n",
    "    mrf_all = summary_itog[summary_itog['МРФ'] == mrf].copy()\n",
    "    \n",
    "    summary_itog.loc['1111_'+mrf, 'level'] = 1\n",
    "    summary_itog.loc['1111_'+mrf, 'МРФ'] = mrf.split('_')[0]\n",
    "    summary_itog.loc['1111_'+mrf,'Номер_назначения'] = mrf_all['Номер_назначения'].count()\n",
    "    for cl in [1,2,3,4,5,6,7,'Всего','Превышение >= 500к', 'нет оплат 3 мес']:\n",
    "        summary_itog.loc['1111_'+mrf, cl] = mrf_all[cl].sum()\n",
    "        \n",
    "    for b2c in mrf_all['Направление B2C'].value_counts().index:\n",
    "        b2c_all = mrf_all[mrf_all['Направление B2C'] == b2c].copy()\n",
    "\n",
    "        summary_itog.loc['1111_'+mrf+fil, 'МРФ'] = mrf\n",
    "        summary_itog.loc['1111_'+mrf+fil, 'Направление B2C'] = b2c.split('_')[0]+'_а'\n",
    "        summary_itog.loc['1111_'+mrf+fil, 'level'] = 2\n",
    "        summary_itog.loc['1111_'+mrf+fil,'Номер_назначения'] = b2c_all['Номер_назначения'].count()\n",
    "        for cl in [1,2,3,4,5,6,7,'Всего','Превышение >= 500к', 'нет оплат 3 мес']:\n",
    "            summary_itog.loc['1111_'+mrf+fil, cl] = b2c_all[cl].sum()\n",
    "    \n",
    "        for fil in b2c_all['Филиала'].value_counts().index:\n",
    "            fil_all = b2c_all[b2c_all['Филиала'] == fil].copy()\n",
    "            summary_itog.loc['1111_'+mrf+fil+b2c, 'МРФ'] = mrf\n",
    "            summary_itog.loc['1111_'+mrf+fil+b2c, 'Направление B2C'] = b2c\n",
    "            summary_itog.loc['1111_'+mrf+fil+b2c, 'Филиала'] = fil.split('_')[0]\n",
    "            summary_itog.loc['1111_'+mrf+fil+b2c, 'level'] = 3\n",
    "            summary_itog.loc['1111_'+mrf+fil+b2c,'Номер_назначения'] = fil_all['Номер_назначения'].count()\n",
    "            for cl in [1,2,3,4,5,6,7,'Всего','Превышение >= 500к', 'нет оплат 3 мес']:\n",
    "                summary_itog.loc['1111_'+mrf+fil+b2c, cl] = fil_all[cl].sum()\n",
    "            \n",
    "     "
   ]
  },
  {
   "cell_type": "code",
   "execution_count": null,
   "metadata": {},
   "outputs": [],
   "source": [
    "# сортировка\n",
    "\n",
    "summary_itog.sort_values(['МРФ', 'Направление B2C','Филиала'], inplace= True)\n",
    "summary_itog['МРФ'] = summary_itog['МРФ'].str.replace('1111_', '')\n",
    "summary_itog['МРФ'] = summary_itog['МРФ'].str.replace('_а1', '')\n",
    "summary_itog['Филиала'] = summary_itog['Филиала'].str.replace('_а1', '')\n",
    "summary_itog['Направление B2C'] = summary_itog['Направление B2C'].str.replace('_а1', '')\n",
    "summary_itog['МРФ'] = summary_itog['МРФ'].str.replace('_а', '')\n",
    "summary_itog['Филиала'] = summary_itog['Филиала'].str.replace('_а', '')\n",
    "summary_itog['Направление B2C'] = summary_itog['Направление B2C'].str.replace('_а', '')"
   ]
  },
  {
   "cell_type": "code",
   "execution_count": null,
   "metadata": {},
   "outputs": [],
   "source": [
    "%%time\n",
    "\n",
    "# выгрузка файла\n",
    "\n",
    "summary_itog.reset_index(inplace=True, drop=True)\n",
    "path = '/Users/ivansinazhenski/Documents/ WORK/ГПХ_B2C_Воронков_11_2020/масс_сектор_summary_500_v2.xlsx'\n",
    "with pd.ExcelWriter(path, engine='xlsxwriter') as w:\n",
    "    workbook = w.book\n",
    "    summary_itog.to_excel(w, sheet_name='выплаты_500', index=False)\n",
    "    out_sum_wsh = w.sheets['выплаты_500']\n",
    "    out_sum_wsh.outline_settings(True, False, False, False)\n",
    "    for i in summary_itog.index:\n",
    "        if summary_itog.loc[i, 'level'] == 1:\n",
    "            out_sum_wsh.set_row(i+1, None, None, {'level': 1})\n",
    "        elif summary_itog.loc[i, 'level'] == 2:\n",
    "            out_sum_wsh.set_row(i+1, None, None, {'level': 2})\n",
    "        elif summary_itog.loc[i, 'level'] == 3:\n",
    "            out_sum_wsh.set_row(i+1, None, None, {'level': 3})\n",
    "        elif summary_itog.loc[i, 'level'] == 4:\n",
    "            out_sum_wsh.set_row(i+1, None, None, {'level': 4})"
   ]
  },
  {
   "cell_type": "markdown",
   "metadata": {},
   "source": [
    "# нет выплат 3 мес"
   ]
  },
  {
   "cell_type": "code",
   "execution_count": null,
   "metadata": {},
   "outputs": [],
   "source": [
    "summary"
   ]
  },
  {
   "cell_type": "code",
   "execution_count": null,
   "metadata": {},
   "outputs": [],
   "source": [
    "%%time\n",
    "\n",
    "s_help = summary == 0\n",
    "s_help = s_help.transpose()\n",
    "\n",
    "for cl in s_help.columns:\n",
    "    print(cl)\n",
    "    l = s_help[s_help[cl] == True].index.to_list()\n",
    "    summary.loc[cl, 'Месяца_без_оплат'] = str(l)"
   ]
  },
  {
   "cell_type": "code",
   "execution_count": 37,
   "metadata": {
    "scrolled": true
   },
   "outputs": [],
   "source": [
    "summary['Месяца_без_оплат'] = summary['Месяца_без_оплат'].astype(str)"
   ]
  },
  {
   "cell_type": "code",
   "execution_count": 38,
   "metadata": {},
   "outputs": [],
   "source": [
    "summary.loc[summary[summary['Месяца_без_оплат'].str.contains('5, 6, 7')].index, 'нет оплат 3 мес'] = 1"
   ]
  },
  {
   "cell_type": "code",
   "execution_count": 39,
   "metadata": {},
   "outputs": [],
   "source": [
    "summary['Месяца_без_оплат'] = summary['Месяца_без_оплат'].str.replace('1', 'янв')\n",
    "summary['Месяца_без_оплат'] = summary['Месяца_без_оплат'].str.replace('2', 'февр')\n",
    "summary['Месяца_без_оплат'] = summary['Месяца_без_оплат'].str.replace('3', 'март')\n",
    "summary['Месяца_без_оплат'] = summary['Месяца_без_оплат'].str.replace('4', 'апр')\n",
    "summary['Месяца_без_оплат'] = summary['Месяца_без_оплат'].str.replace('5', 'май')\n",
    "summary['Месяца_без_оплат'] = summary['Месяца_без_оплат'].str.replace('6', 'июнь')\n",
    "summary['Месяца_без_оплат'] = summary['Месяца_без_оплат'].str.replace('7', 'июль')\n",
    "summary['Месяца_без_оплат'] = summary['Месяца_без_оплат'].str.replace('[','')\n",
    "summary['Месяца_без_оплат'] = summary['Месяца_без_оплат'].str.replace(']','')"
   ]
  },
  {
   "cell_type": "code",
   "execution_count": null,
   "metadata": {},
   "outputs": [],
   "source": [
    "summary_3mon_non = summary[summary['нет оплат 3 мес'] == 1].copy()"
   ]
  },
  {
   "cell_type": "code",
   "execution_count": null,
   "metadata": {
    "scrolled": true
   },
   "outputs": [],
   "source": [
    "%%time\n",
    "\n",
    "# общий итог\n",
    "summary_itog = summary_3mon_non .copy()\n",
    "summary_itog['МРФ'] = summary_itog['МРФ']+'_а1'\n",
    "summary_itog['Филиала'] = summary_itog['Филиала']+'_а1'\n",
    "summary_itog['Направление B2C'] = summary_itog['Направление B2C']+'_а1'\n",
    "summary_itog['level'] = 4\n",
    "\n",
    "summary_itog.loc['1111_Итог', 'МРФ'] = '1111_Итог'\n",
    "summary_itog.loc['1111_Итог', 'level'] = '1'\n",
    "summary_itog.loc['1111_Итог', 'Номер_назначения'] = summary_itog['Номер_назначения'].count()\n",
    "for cl in [1,2,3,4,5,6,7,'Всего','Превышение >= 500к', 'нет оплат 3 мес']:\n",
    "    summary_itog.loc['1111_Итог', cl] = summary_itog[cl].sum()\n",
    "\n",
    "for mrf in summary_itog.МРФ.value_counts().index:\n",
    "    if mrf.find('1111_Итог') == 0:\n",
    "        continue\n",
    "    mrf_all = summary_itog[summary_itog['МРФ'] == mrf].copy()\n",
    "    \n",
    "    summary_itog.loc['1111_'+mrf, 'level'] = 1\n",
    "    summary_itog.loc['1111_'+mrf, 'МРФ'] = mrf.split('_')[0]\n",
    "    summary_itog.loc['1111_'+mrf,'Номер_назначения'] = mrf_all['Номер_назначения'].count()\n",
    "    for cl in [1,2,3,4,5,6,7,'Всего','Превышение >= 500к', 'нет оплат 3 мес']:\n",
    "        summary_itog.loc['1111_'+mrf, cl] = mrf_all[cl].sum()\n",
    "        \n",
    "    for b2c in mrf_all['Направление B2C'].value_counts().index:\n",
    "        b2c_all = mrf_all[mrf_all['Направление B2C'] == b2c].copy()\n",
    "\n",
    "        summary_itog.loc['1111_'+mrf+fil, 'МРФ'] = mrf\n",
    "        summary_itog.loc['1111_'+mrf+fil, 'Направление B2C'] = b2c.split('_')[0]+'_а'\n",
    "        summary_itog.loc['1111_'+mrf+fil, 'level'] = 2\n",
    "        summary_itog.loc['1111_'+mrf+fil,'Номер_назначения'] = b2c_all['Номер_назначения'].count()\n",
    "        for cl in [1,2,3,4,5,6,7,'Всего','Превышение >= 500к', 'нет оплат 3 мес']:\n",
    "            summary_itog.loc['1111_'+mrf+fil, cl] = b2c_all[cl].sum()\n",
    "    \n",
    "        for fil in b2c_all['Филиала'].value_counts().index:\n",
    "            fil_all = b2c_all[b2c_all['Филиала'] == fil].copy()\n",
    "            summary_itog.loc['1111_'+mrf+fil+b2c, 'МРФ'] = mrf\n",
    "            summary_itog.loc['1111_'+mrf+fil+b2c, 'Направление B2C'] = b2c\n",
    "            summary_itog.loc['1111_'+mrf+fil+b2c, 'Филиала'] = fil.split('_')[0]\n",
    "            summary_itog.loc['1111_'+mrf+fil+b2c, 'level'] = 3\n",
    "            summary_itog.loc['1111_'+mrf+fil+b2c,'Номер_назначения'] = fil_all['Номер_назначения'].count()\n",
    "            for cl in [1,2,3,4,5,6,7,'Всего','Превышение >= 500к', 'нет оплат 3 мес']:\n",
    "                summary_itog.loc['1111_'+mrf+fil+b2c, cl] = fil_all[cl].sum()"
   ]
  },
  {
   "cell_type": "code",
   "execution_count": null,
   "metadata": {},
   "outputs": [],
   "source": [
    "# сортировка\n",
    "\n",
    "summary_itog.sort_values(['МРФ', 'Направление B2C','Филиала'], inplace= True)\n",
    "summary_itog['МРФ'] = summary_itog['МРФ'].str.replace('1111_', '')\n",
    "summary_itog['МРФ'] = summary_itog['МРФ'].str.replace('_а1', '')\n",
    "summary_itog['Филиала'] = summary_itog['Филиала'].str.replace('_а1', '')\n",
    "summary_itog['Направление B2C'] = summary_itog['Направление B2C'].str.replace('_а1', '')\n",
    "summary_itog['МРФ'] = summary_itog['МРФ'].str.replace('_а', '')\n",
    "summary_itog['Филиала'] = summary_itog['Филиала'].str.replace('_а', '')\n",
    "summary_itog['Направление B2C'] = summary_itog['Направление B2C'].str.replace('_а', '')"
   ]
  },
  {
   "cell_type": "code",
   "execution_count": null,
   "metadata": {},
   "outputs": [],
   "source": [
    "%%time\n",
    "\n",
    "# выгрузка файла\n",
    "\n",
    "summary_itog.reset_index(inplace=True, drop=True)\n",
    "path = '/Users/ivansinazhenski/Documents/ WORK/ГПХ_B2C_Воронков_11_2020/масс_сектор_summary_3_v2.xlsx'\n",
    "with pd.ExcelWriter(path, engine='xlsxwriter') as w:\n",
    "    workbook = w.book\n",
    "    summary_itog.to_excel(w, sheet_name='выплаты_3', index=False)\n",
    "    out_sum_wsh = w.sheets['выплаты_3']\n",
    "    out_sum_wsh.outline_settings(True, False, False, False)\n",
    "    for i in summary_itog.index:\n",
    "        if summary_itog.loc[i, 'level'] == 1:\n",
    "            out_sum_wsh.set_row(i+1, None, None, {'level': 1})\n",
    "        elif summary_itog.loc[i, 'level'] == 2:\n",
    "            out_sum_wsh.set_row(i+1, None, None, {'level': 2})\n",
    "        elif summary_itog.loc[i, 'level'] == 3:\n",
    "            out_sum_wsh.set_row(i+1, None, None, {'level': 3})\n",
    "        elif summary_itog.loc[i, 'level'] == 4:\n",
    "            out_sum_wsh.set_row(i+1, None, None, {'level': 4})"
   ]
  },
  {
   "cell_type": "code",
   "execution_count": null,
   "metadata": {},
   "outputs": [],
   "source": []
  }
 ],
 "metadata": {
  "kernelspec": {
   "display_name": "Python 3",
   "language": "python",
   "name": "python3"
  },
  "language_info": {
   "codemirror_mode": {
    "name": "ipython",
    "version": 3
   },
   "file_extension": ".py",
   "mimetype": "text/x-python",
   "name": "python",
   "nbconvert_exporter": "python",
   "pygments_lexer": "ipython3",
   "version": "3.7.2"
  }
 },
 "nbformat": 4,
 "nbformat_minor": 2
}
